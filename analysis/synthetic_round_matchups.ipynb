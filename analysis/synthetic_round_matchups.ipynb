{
 "cells": [
  {
   "cell_type": "markdown",
   "id": "d75d942b-122f-44cd-9988-bc4a2f856bde",
   "metadata": {},
   "source": [
    "# Synthetic Line"
   ]
  },
  {
   "cell_type": "markdown",
   "id": "7668ee02-d2f7-44c6-b149-0ee58c188504",
   "metadata": {},
   "source": [
    "One of the easiest ways to build a model predicting events is to use some combination of the markets, or sportsbooks. In data science, this is akin to creating a \"stacked\" model where the outputs of multiple models are combined in a linear or non-linear model to come up with an optimized scheme. Linear models can be thought of as simply weighting each market. For example, using historical data, we may find that Draftkings head-to-head round matchup odds are the sharpest followed by Pinnacle, and then Bookmaker. A model can provide the optimal weights that each sportsbook would get. Using this example, it may be 50% Draftkings, 30% Pinnacle, and 20% Bookmaker.\n",
    "\n",
    "The goal of this analysis is to come up with an optimized synthetic line for PGA Tour head-to-head **round** matchups."
   ]
  },
  {
   "cell_type": "markdown",
   "id": "46745cc2-3eee-4206-b706-e319ee3d15a4",
   "metadata": {},
   "source": [
    "## Package Import"
   ]
  },
  {
   "cell_type": "code",
   "execution_count": 25,
   "id": "7b4af0ce-ae30-4ef8-81ea-c99394d48ae3",
   "metadata": {},
   "outputs": [],
   "source": [
    "import pandas as pd\n",
    "import numpy as np\n",
    "from google.cloud import bigquery\n",
    "\n",
    "import matplotlib.pyplot as plt\n",
    "plt.style.use('ggplot')\n",
    "\n",
    "import seaborn as sns\n",
    "\n",
    "pd.set_option('max_columns', 100)\n",
    "\n",
    "client = bigquery.Client()"
   ]
  },
  {
   "cell_type": "markdown",
   "id": "cbb4fb94-0141-491b-91df-37441edec1b7",
   "metadata": {},
   "source": [
    "## Data Import"
   ]
  },
  {
   "cell_type": "markdown",
   "id": "a37e5033-3645-41aa-96d0-84809be0df0a",
   "metadata": {},
   "source": [
    "Using DataGolf's API, I have historical round matchups across various sportsbooks. In addition to the historical data, I've created a BigQuery table that includes the sportsbooks that DataGolf currently supports. After all, we need to be able to get new data when making future predictions with a model."
   ]
  },
  {
   "cell_type": "markdown",
   "id": "016f3d66-86e1-4f9e-987f-3e2a9f20aa31",
   "metadata": {},
   "source": [
    "### Active Sportsbooks"
   ]
  },
  {
   "cell_type": "code",
   "execution_count": 7,
   "id": "405fad5e-6776-450d-b772-cfedfa612e15",
   "metadata": {},
   "outputs": [],
   "source": [
    "sportsbook_query = client.query(\"SELECT * FROM `golf-predict.entities.sportsbooks` WHERE active = 1\")\n",
    "\n",
    "sportsbooks = sportsbook_query.result().to_dataframe()"
   ]
  },
  {
   "cell_type": "code",
   "execution_count": 21,
   "id": "9283cf16-05ce-43e4-8479-bb27c8b37dde",
   "metadata": {},
   "outputs": [
    {
     "data": {
      "text/html": [
       "<div>\n",
       "<style scoped>\n",
       "    .dataframe tbody tr th:only-of-type {\n",
       "        vertical-align: middle;\n",
       "    }\n",
       "\n",
       "    .dataframe tbody tr th {\n",
       "        vertical-align: top;\n",
       "    }\n",
       "\n",
       "    .dataframe thead th {\n",
       "        text-align: right;\n",
       "    }\n",
       "</style>\n",
       "<table border=\"1\" class=\"dataframe\">\n",
       "  <thead>\n",
       "    <tr style=\"text-align: right;\">\n",
       "      <th></th>\n",
       "      <th>sportsbook</th>\n",
       "      <th>odds_type</th>\n",
       "      <th>start_date</th>\n",
       "      <th>end_date</th>\n",
       "      <th>active</th>\n",
       "    </tr>\n",
       "  </thead>\n",
       "  <tbody>\n",
       "    <tr>\n",
       "      <th>0</th>\n",
       "      <td>bet365</td>\n",
       "      <td>matchups</td>\n",
       "      <td>2019-01-20</td>\n",
       "      <td>None</td>\n",
       "      <td>1</td>\n",
       "    </tr>\n",
       "    <tr>\n",
       "      <th>1</th>\n",
       "      <td>bovada</td>\n",
       "      <td>matchups</td>\n",
       "      <td>2019-01-20</td>\n",
       "      <td>None</td>\n",
       "      <td>1</td>\n",
       "    </tr>\n",
       "    <tr>\n",
       "      <th>2</th>\n",
       "      <td>pinnacle</td>\n",
       "      <td>matchups</td>\n",
       "      <td>2019-03-26</td>\n",
       "      <td>None</td>\n",
       "      <td>1</td>\n",
       "    </tr>\n",
       "    <tr>\n",
       "      <th>3</th>\n",
       "      <td>draftkings</td>\n",
       "      <td>matchups</td>\n",
       "      <td>2019-05-29</td>\n",
       "      <td>None</td>\n",
       "      <td>1</td>\n",
       "    </tr>\n",
       "    <tr>\n",
       "      <th>4</th>\n",
       "      <td>betcris</td>\n",
       "      <td>matchups</td>\n",
       "      <td>2019-10-09</td>\n",
       "      <td>None</td>\n",
       "      <td>1</td>\n",
       "    </tr>\n",
       "    <tr>\n",
       "      <th>5</th>\n",
       "      <td>betonline</td>\n",
       "      <td>matchups</td>\n",
       "      <td>2020-02-11</td>\n",
       "      <td>None</td>\n",
       "      <td>1</td>\n",
       "    </tr>\n",
       "    <tr>\n",
       "      <th>6</th>\n",
       "      <td>fanduel</td>\n",
       "      <td>matchups</td>\n",
       "      <td>2020-10-06</td>\n",
       "      <td>None</td>\n",
       "      <td>1</td>\n",
       "    </tr>\n",
       "    <tr>\n",
       "      <th>7</th>\n",
       "      <td>betmgm</td>\n",
       "      <td>matchups</td>\n",
       "      <td>2021-01-15</td>\n",
       "      <td>None</td>\n",
       "      <td>1</td>\n",
       "    </tr>\n",
       "    <tr>\n",
       "      <th>8</th>\n",
       "      <td>pointsbet</td>\n",
       "      <td>matchups</td>\n",
       "      <td>2021-05-05</td>\n",
       "      <td>None</td>\n",
       "      <td>1</td>\n",
       "    </tr>\n",
       "    <tr>\n",
       "      <th>9</th>\n",
       "      <td>circa</td>\n",
       "      <td>matchups</td>\n",
       "      <td>2022-01-04</td>\n",
       "      <td>None</td>\n",
       "      <td>1</td>\n",
       "    </tr>\n",
       "    <tr>\n",
       "      <th>10</th>\n",
       "      <td>unibet</td>\n",
       "      <td>matchups</td>\n",
       "      <td>2022-01-04</td>\n",
       "      <td>None</td>\n",
       "      <td>1</td>\n",
       "    </tr>\n",
       "  </tbody>\n",
       "</table>\n",
       "</div>"
      ],
      "text/plain": [
       "    sportsbook odds_type  start_date end_date  active\n",
       "0       bet365  matchups  2019-01-20     None       1\n",
       "1       bovada  matchups  2019-01-20     None       1\n",
       "2     pinnacle  matchups  2019-03-26     None       1\n",
       "3   draftkings  matchups  2019-05-29     None       1\n",
       "4      betcris  matchups  2019-10-09     None       1\n",
       "5    betonline  matchups  2020-02-11     None       1\n",
       "6      fanduel  matchups  2020-10-06     None       1\n",
       "7       betmgm  matchups  2021-01-15     None       1\n",
       "8    pointsbet  matchups  2021-05-05     None       1\n",
       "9        circa  matchups  2022-01-04     None       1\n",
       "10      unibet  matchups  2022-01-04     None       1"
      ]
     },
     "execution_count": 21,
     "metadata": {},
     "output_type": "execute_result"
    }
   ],
   "source": [
    "(sportsbooks\n",
    " .query(\"odds_type == 'matchups'\")\n",
    " .sort_values(['start_date'])\n",
    " .reset_index(drop=True)\n",
    ")"
   ]
  },
  {
   "cell_type": "markdown",
   "id": "8ca9c03f-8511-447b-a866-c0ad7537c331",
   "metadata": {},
   "source": [
    "We have 11 active sportsbooks that have historical matchup data. Some (Circa, Unibet) are more recent than others, but we will explore using only 2022 data to predict the matchups that have occurred throughout 2023 thus far."
   ]
  },
  {
   "cell_type": "code",
   "execution_count": 27,
   "id": "927a4e27-f547-4ba3-8525-dad5b2ef77a8",
   "metadata": {},
   "outputs": [
    {
     "data": {
      "text/plain": [
       "0         bet365\n",
       "1        betcris\n",
       "2         betmgm\n",
       "3      betonline\n",
       "4         bovada\n",
       "5          circa\n",
       "6     draftkings\n",
       "7        fanduel\n",
       "8       pinnacle\n",
       "9      pointsbet\n",
       "10        unibet\n",
       "Name: sportsbook, dtype: object"
      ]
     },
     "execution_count": 27,
     "metadata": {},
     "output_type": "execute_result"
    }
   ],
   "source": [
    "active_books = sportsbooks.query(\"odds_type == 'matchups'\")['sportsbook']\n",
    "active_books"
   ]
  },
  {
   "cell_type": "markdown",
   "id": "68e1384b-7764-4582-ae20-1f7ce71b0228",
   "metadata": {},
   "source": [
    "### Historical Matchups"
   ]
  },
  {
   "cell_type": "code",
   "execution_count": 22,
   "id": "e0d07676-53b1-45e9-ac8d-824347495176",
   "metadata": {},
   "outputs": [],
   "source": [
    "matchups_query = client.query(\"SELECT * FROM `golf-predict.historical_betting_odds.matchups`\")\n",
    "\n",
    "matchups = matchups_query.result().to_dataframe()"
   ]
  },
  {
   "cell_type": "code",
   "execution_count": 23,
   "id": "5b9c7dce-2106-40a3-b2ad-70cb0cff17bf",
   "metadata": {},
   "outputs": [
    {
     "name": "stdout",
     "output_type": "stream",
     "text": [
      "<class 'pandas.core.frame.DataFrame'>\n",
      "RangeIndex: 311682 entries, 0 to 311681\n",
      "Data columns (total 28 columns):\n",
      " #   Column           Non-Null Count   Dtype              \n",
      "---  ------           --------------   -----              \n",
      " 0   bet_type         311578 non-null  object             \n",
      " 1   close_time       311578 non-null  datetime64[ns, UTC]\n",
      " 2   open_time        311578 non-null  datetime64[ns, UTC]\n",
      " 3   p1_close         311578 non-null  float64            \n",
      " 4   p1_dg_id         311578 non-null  float64            \n",
      " 5   p1_open          311578 non-null  float64            \n",
      " 6   p1_outcome       311578 non-null  float64            \n",
      " 7   p1_outcome_text  311578 non-null  object             \n",
      " 8   p1_player_name   311578 non-null  object             \n",
      " 9   p2_close         311578 non-null  float64            \n",
      " 10  p2_dg_id         311578 non-null  float64            \n",
      " 11  p2_open          311578 non-null  float64            \n",
      " 12  p2_outcome       311578 non-null  float64            \n",
      " 13  p2_outcome_text  311578 non-null  object             \n",
      " 14  p2_player_name   311578 non-null  object             \n",
      " 15  p3_close         108687 non-null  float64            \n",
      " 16  p3_dg_id         108687 non-null  float64            \n",
      " 17  p3_open          108683 non-null  float64            \n",
      " 18  p3_outcome       108687 non-null  float64            \n",
      " 19  p3_outcome_text  108687 non-null  object             \n",
      " 20  p3_player_name   108687 non-null  object             \n",
      " 21  tie_rule         311578 non-null  object             \n",
      " 22  book             311682 non-null  object             \n",
      " 23  event_completed  311682 non-null  object             \n",
      " 24  event_name       311682 non-null  object             \n",
      " 25  season           311682 non-null  int64              \n",
      " 26  year             311682 non-null  int64              \n",
      " 27  event_id         311682 non-null  int64              \n",
      "dtypes: datetime64[ns, UTC](2), float64(12), int64(3), object(11)\n",
      "memory usage: 66.6+ MB\n"
     ]
    }
   ],
   "source": [
    "matchups.info()"
   ]
  },
  {
   "cell_type": "markdown",
   "id": "718a48d6-5ce4-49bc-9ddb-ed91c0c7084d",
   "metadata": {},
   "source": [
    "I would typically do a lot of filtering and such within the SQL query, but simply importing all data to do a lot more work with Python"
   ]
  },
  {
   "cell_type": "markdown",
   "id": "2abe80d3-4b61-431d-b545-dc8f6b520072",
   "metadata": {},
   "source": [
    "------\n",
    "shortcuts: \n",
    "- j/k up and down\n",
    "- a add above, b add below\n",
    "- m markdown, y code\n",
    "------"
   ]
  },
  {
   "cell_type": "code",
   "execution_count": 26,
   "id": "e5081966-c740-47a9-9fff-7293045c5610",
   "metadata": {},
   "outputs": [
    {
     "data": {
      "text/plain": [
       "Index(['bet_type', 'close_time', 'open_time', 'p1_close', 'p1_dg_id',\n",
       "       'p1_open', 'p1_outcome', 'p1_outcome_text', 'p1_player_name',\n",
       "       'p2_close', 'p2_dg_id', 'p2_open', 'p2_outcome', 'p2_outcome_text',\n",
       "       'p2_player_name', 'p3_close', 'p3_dg_id', 'p3_open', 'p3_outcome',\n",
       "       'p3_outcome_text', 'p3_player_name', 'tie_rule', 'book',\n",
       "       'event_completed', 'event_name', 'season', 'year', 'event_id'],\n",
       "      dtype='object')"
      ]
     },
     "execution_count": 26,
     "metadata": {},
     "output_type": "execute_result"
    }
   ],
   "source": [
    "matchups.columns"
   ]
  },
  {
   "cell_type": "code",
   "execution_count": 28,
   "id": "ce29b00d-b468-4e68-807a-6c539764a254",
   "metadata": {},
   "outputs": [],
   "source": [
    "keep_cols = [\n",
    "    'bet_type', 'close_time', 'open_time', \n",
    "    'p1_close', 'p1_dg_id', 'p1_open', 'p1_outcome', 'p1_outcome_text', 'p1_player_name',\n",
    "    'p2_close', 'p2_dg_id', 'p2_open', 'p2_outcome', 'p2_outcome_text', 'p2_player_name', \n",
    "    'tie_rule', 'book', 'event_completed', 'event_name', 'season', 'year', 'event_id'\n",
    "]"
   ]
  },
  {
   "cell_type": "code",
   "execution_count": 99,
   "id": "8c69029a-3cff-4131-a315-18d024c9f4e6",
   "metadata": {},
   "outputs": [
    {
     "data": {
      "text/html": [
       "<div>\n",
       "<style scoped>\n",
       "    .dataframe tbody tr th:only-of-type {\n",
       "        vertical-align: middle;\n",
       "    }\n",
       "\n",
       "    .dataframe tbody tr th {\n",
       "        vertical-align: top;\n",
       "    }\n",
       "\n",
       "    .dataframe thead th {\n",
       "        text-align: right;\n",
       "    }\n",
       "</style>\n",
       "<table border=\"1\" class=\"dataframe\">\n",
       "  <thead>\n",
       "    <tr style=\"text-align: right;\">\n",
       "      <th></th>\n",
       "      <th>bet_type</th>\n",
       "      <th>close_time</th>\n",
       "      <th>open_time</th>\n",
       "      <th>p1_close</th>\n",
       "      <th>p1_dg_id</th>\n",
       "      <th>p1_open</th>\n",
       "      <th>p1_outcome</th>\n",
       "      <th>p1_outcome_text</th>\n",
       "      <th>p1_player_name</th>\n",
       "      <th>p2_close</th>\n",
       "      <th>p2_dg_id</th>\n",
       "      <th>p2_open</th>\n",
       "      <th>p2_outcome</th>\n",
       "      <th>p2_outcome_text</th>\n",
       "      <th>p2_player_name</th>\n",
       "      <th>p3_close</th>\n",
       "      <th>p3_dg_id</th>\n",
       "      <th>p3_open</th>\n",
       "      <th>p3_outcome</th>\n",
       "      <th>p3_outcome_text</th>\n",
       "      <th>p3_player_name</th>\n",
       "      <th>tie_rule</th>\n",
       "      <th>book</th>\n",
       "      <th>event_completed</th>\n",
       "      <th>event_name</th>\n",
       "      <th>season</th>\n",
       "      <th>year</th>\n",
       "      <th>event_id</th>\n",
       "    </tr>\n",
       "  </thead>\n",
       "  <tbody>\n",
       "    <tr>\n",
       "      <th>0</th>\n",
       "      <td>None</td>\n",
       "      <td>NaT</td>\n",
       "      <td>NaT</td>\n",
       "      <td>NaN</td>\n",
       "      <td>NaN</td>\n",
       "      <td>NaN</td>\n",
       "      <td>NaN</td>\n",
       "      <td>None</td>\n",
       "      <td>None</td>\n",
       "      <td>NaN</td>\n",
       "      <td>NaN</td>\n",
       "      <td>NaN</td>\n",
       "      <td>NaN</td>\n",
       "      <td>None</td>\n",
       "      <td>None</td>\n",
       "      <td>NaN</td>\n",
       "      <td>NaN</td>\n",
       "      <td>NaN</td>\n",
       "      <td>NaN</td>\n",
       "      <td>None</td>\n",
       "      <td>None</td>\n",
       "      <td>None</td>\n",
       "      <td>5dimes</td>\n",
       "      <td>2023-05-28</td>\n",
       "      <td>Charles Schwab Challenge</td>\n",
       "      <td>2023</td>\n",
       "      <td>2023</td>\n",
       "      <td>21</td>\n",
       "    </tr>\n",
       "    <tr>\n",
       "      <th>1</th>\n",
       "      <td>None</td>\n",
       "      <td>NaT</td>\n",
       "      <td>NaT</td>\n",
       "      <td>NaN</td>\n",
       "      <td>NaN</td>\n",
       "      <td>NaN</td>\n",
       "      <td>NaN</td>\n",
       "      <td>None</td>\n",
       "      <td>None</td>\n",
       "      <td>NaN</td>\n",
       "      <td>NaN</td>\n",
       "      <td>NaN</td>\n",
       "      <td>NaN</td>\n",
       "      <td>None</td>\n",
       "      <td>None</td>\n",
       "      <td>NaN</td>\n",
       "      <td>NaN</td>\n",
       "      <td>NaN</td>\n",
       "      <td>NaN</td>\n",
       "      <td>None</td>\n",
       "      <td>None</td>\n",
       "      <td>None</td>\n",
       "      <td>sportsbook</td>\n",
       "      <td>2023-05-28</td>\n",
       "      <td>Charles Schwab Challenge</td>\n",
       "      <td>2023</td>\n",
       "      <td>2023</td>\n",
       "      <td>21</td>\n",
       "    </tr>\n",
       "    <tr>\n",
       "      <th>2</th>\n",
       "      <td>None</td>\n",
       "      <td>NaT</td>\n",
       "      <td>NaT</td>\n",
       "      <td>NaN</td>\n",
       "      <td>NaN</td>\n",
       "      <td>NaN</td>\n",
       "      <td>NaN</td>\n",
       "      <td>None</td>\n",
       "      <td>None</td>\n",
       "      <td>NaN</td>\n",
       "      <td>NaN</td>\n",
       "      <td>NaN</td>\n",
       "      <td>NaN</td>\n",
       "      <td>None</td>\n",
       "      <td>None</td>\n",
       "      <td>NaN</td>\n",
       "      <td>NaN</td>\n",
       "      <td>NaN</td>\n",
       "      <td>NaN</td>\n",
       "      <td>None</td>\n",
       "      <td>None</td>\n",
       "      <td>None</td>\n",
       "      <td>williamhill</td>\n",
       "      <td>2023-05-28</td>\n",
       "      <td>Charles Schwab Challenge</td>\n",
       "      <td>2023</td>\n",
       "      <td>2023</td>\n",
       "      <td>21</td>\n",
       "    </tr>\n",
       "    <tr>\n",
       "      <th>3</th>\n",
       "      <td>None</td>\n",
       "      <td>NaT</td>\n",
       "      <td>NaT</td>\n",
       "      <td>NaN</td>\n",
       "      <td>NaN</td>\n",
       "      <td>NaN</td>\n",
       "      <td>NaN</td>\n",
       "      <td>None</td>\n",
       "      <td>None</td>\n",
       "      <td>NaN</td>\n",
       "      <td>NaN</td>\n",
       "      <td>NaN</td>\n",
       "      <td>NaN</td>\n",
       "      <td>None</td>\n",
       "      <td>None</td>\n",
       "      <td>NaN</td>\n",
       "      <td>NaN</td>\n",
       "      <td>NaN</td>\n",
       "      <td>NaN</td>\n",
       "      <td>None</td>\n",
       "      <td>None</td>\n",
       "      <td>None</td>\n",
       "      <td>5dimes</td>\n",
       "      <td>2023-05-21</td>\n",
       "      <td>PGA Championship</td>\n",
       "      <td>2023</td>\n",
       "      <td>2023</td>\n",
       "      <td>33</td>\n",
       "    </tr>\n",
       "    <tr>\n",
       "      <th>4</th>\n",
       "      <td>None</td>\n",
       "      <td>NaT</td>\n",
       "      <td>NaT</td>\n",
       "      <td>NaN</td>\n",
       "      <td>NaN</td>\n",
       "      <td>NaN</td>\n",
       "      <td>NaN</td>\n",
       "      <td>None</td>\n",
       "      <td>None</td>\n",
       "      <td>NaN</td>\n",
       "      <td>NaN</td>\n",
       "      <td>NaN</td>\n",
       "      <td>NaN</td>\n",
       "      <td>None</td>\n",
       "      <td>None</td>\n",
       "      <td>NaN</td>\n",
       "      <td>NaN</td>\n",
       "      <td>NaN</td>\n",
       "      <td>NaN</td>\n",
       "      <td>None</td>\n",
       "      <td>None</td>\n",
       "      <td>None</td>\n",
       "      <td>sportsbook</td>\n",
       "      <td>2023-05-21</td>\n",
       "      <td>PGA Championship</td>\n",
       "      <td>2023</td>\n",
       "      <td>2023</td>\n",
       "      <td>33</td>\n",
       "    </tr>\n",
       "  </tbody>\n",
       "</table>\n",
       "</div>"
      ],
      "text/plain": [
       "  bet_type close_time open_time  p1_close  p1_dg_id  p1_open  p1_outcome  \\\n",
       "0     None        NaT       NaT       NaN       NaN      NaN         NaN   \n",
       "1     None        NaT       NaT       NaN       NaN      NaN         NaN   \n",
       "2     None        NaT       NaT       NaN       NaN      NaN         NaN   \n",
       "3     None        NaT       NaT       NaN       NaN      NaN         NaN   \n",
       "4     None        NaT       NaT       NaN       NaN      NaN         NaN   \n",
       "\n",
       "  p1_outcome_text p1_player_name  p2_close  p2_dg_id  p2_open  p2_outcome  \\\n",
       "0            None           None       NaN       NaN      NaN         NaN   \n",
       "1            None           None       NaN       NaN      NaN         NaN   \n",
       "2            None           None       NaN       NaN      NaN         NaN   \n",
       "3            None           None       NaN       NaN      NaN         NaN   \n",
       "4            None           None       NaN       NaN      NaN         NaN   \n",
       "\n",
       "  p2_outcome_text p2_player_name  p3_close  p3_dg_id  p3_open  p3_outcome  \\\n",
       "0            None           None       NaN       NaN      NaN         NaN   \n",
       "1            None           None       NaN       NaN      NaN         NaN   \n",
       "2            None           None       NaN       NaN      NaN         NaN   \n",
       "3            None           None       NaN       NaN      NaN         NaN   \n",
       "4            None           None       NaN       NaN      NaN         NaN   \n",
       "\n",
       "  p3_outcome_text p3_player_name tie_rule         book event_completed  \\\n",
       "0            None           None     None       5dimes      2023-05-28   \n",
       "1            None           None     None   sportsbook      2023-05-28   \n",
       "2            None           None     None  williamhill      2023-05-28   \n",
       "3            None           None     None       5dimes      2023-05-21   \n",
       "4            None           None     None   sportsbook      2023-05-21   \n",
       "\n",
       "                 event_name  season  year  event_id  \n",
       "0  Charles Schwab Challenge    2023  2023        21  \n",
       "1  Charles Schwab Challenge    2023  2023        21  \n",
       "2  Charles Schwab Challenge    2023  2023        21  \n",
       "3          PGA Championship    2023  2023        33  \n",
       "4          PGA Championship    2023  2023        33  "
      ]
     },
     "execution_count": 99,
     "metadata": {},
     "output_type": "execute_result"
    }
   ],
   "source": [
    "matchups.head()"
   ]
  },
  {
   "cell_type": "code",
   "execution_count": 101,
   "id": "06f886c4-24ed-464e-9318-158c9990c84b",
   "metadata": {},
   "outputs": [],
   "source": [
    "matchups = matchups[keep_cols].copy()"
   ]
  },
  {
   "cell_type": "markdown",
   "id": "fa594473-ef8b-41b2-89db-96137d2dbf4a",
   "metadata": {},
   "source": [
    "Some factors we want to consider as we filter our base population for modeling. \n",
    "1. Ties are void (ie two-way markets)\n",
    "2. Round matchups only\n",
    "3. From an active sportsbook"
   ]
  },
  {
   "cell_type": "code",
   "execution_count": 109,
   "id": "0b16bc23-fd40-4e14-a917-f91985f0ab12",
   "metadata": {},
   "outputs": [
    {
     "name": "stdout",
     "output_type": "stream",
     "text": [
      "[None 'Bets are void in event of tie' 'Separate bet offered for tie'\n",
      " 'Ties settled by dead-heat rules']\n",
      "[None 'R1 Match-Up' 'R2 Match-Up' 'R3 Match-Up' 'R4 Match-Up'\n",
      " '72-hole Match' 'R1 3-Ball' 'R2 3-Ball' 'R3 3-Ball' 'R4 3-Ball']\n"
     ]
    }
   ],
   "source": [
    "print(matchups.tie_rule.unique())\n",
    "print(matchups.bet_type.unique())"
   ]
  },
  {
   "cell_type": "code",
   "execution_count": 110,
   "id": "64ea78a6-2bc5-478b-986c-4c793f699e55",
   "metadata": {},
   "outputs": [],
   "source": [
    "# creating round list for filtering\n",
    "round_list = list(map(lambda x: 'R' + x, list(map(str, range(1,5)))))\n",
    "\n",
    "# filter criteria\n",
    "tie_rule_filt = matchups.tie_rule == 'Bets are void in event of tie'\n",
    "sportsbk_filt = matchups.book.str.contains('|'.join(active_books))\n",
    "bet_type_filt = matchups.bet_type.str.contains('|'.join(round_list))\n",
    "\n",
    "df = matchups.loc[tie_rule_filt & sportsbk_filt & bet_type_filt].reset_index(drop=True)"
   ]
  },
  {
   "cell_type": "code",
   "execution_count": 113,
   "id": "e8397cd4-6dc6-44aa-9307-eac019c14119",
   "metadata": {},
   "outputs": [
    {
     "name": "stdout",
     "output_type": "stream",
     "text": [
      "<class 'pandas.core.frame.DataFrame'>\n",
      "RangeIndex: 147422 entries, 0 to 147421\n",
      "Data columns (total 22 columns):\n",
      " #   Column           Non-Null Count   Dtype              \n",
      "---  ------           --------------   -----              \n",
      " 0   bet_type         147422 non-null  object             \n",
      " 1   close_time       147422 non-null  datetime64[ns, UTC]\n",
      " 2   open_time        147422 non-null  datetime64[ns, UTC]\n",
      " 3   p1_close         147422 non-null  float64            \n",
      " 4   p1_dg_id         147422 non-null  float64            \n",
      " 5   p1_open          147422 non-null  float64            \n",
      " 6   p1_outcome       147422 non-null  float64            \n",
      " 7   p1_outcome_text  147422 non-null  object             \n",
      " 8   p1_player_name   147422 non-null  object             \n",
      " 9   p2_close         147422 non-null  float64            \n",
      " 10  p2_dg_id         147422 non-null  float64            \n",
      " 11  p2_open          147422 non-null  float64            \n",
      " 12  p2_outcome       147422 non-null  float64            \n",
      " 13  p2_outcome_text  147422 non-null  object             \n",
      " 14  p2_player_name   147422 non-null  object             \n",
      " 15  tie_rule         147422 non-null  object             \n",
      " 16  book             147422 non-null  object             \n",
      " 17  event_completed  147422 non-null  object             \n",
      " 18  event_name       147422 non-null  object             \n",
      " 19  season           147422 non-null  int64              \n",
      " 20  year             147422 non-null  int64              \n",
      " 21  event_id         147422 non-null  int64              \n",
      "dtypes: datetime64[ns, UTC](2), float64(8), int64(3), object(9)\n",
      "memory usage: 24.7+ MB\n"
     ]
    }
   ],
   "source": [
    "df.info()"
   ]
  },
  {
   "cell_type": "code",
   "execution_count": 142,
   "id": "4e07408c-5c42-491c-8c68-674c9b49abae",
   "metadata": {},
   "outputs": [],
   "source": [
    "# change a few types\n",
    "df.p1_dg_id = df.p1_dg_id.astype(int)\n",
    "df.p2_dg_id = df.p2_dg_id.astype(int)"
   ]
  },
  {
   "cell_type": "code",
   "execution_count": 115,
   "id": "ada84fc3-3062-41b4-94f5-e8c3ac07f97b",
   "metadata": {},
   "outputs": [
    {
     "data": {
      "text/plain": [
       "book        year\n",
       "pinnacle    2022    10436\n",
       "betcris     2022     7756\n",
       "            2021     7678\n",
       "bovada      2021     7542\n",
       "betonline   2021     6632\n",
       "bovada      2022     6563\n",
       "draftkings  2021     6215\n",
       "betonline   2022     6201\n",
       "unibet      2022     5667\n",
       "pinnacle    2021     5631\n",
       "bovada      2020     5168\n",
       "betcris     2020     5108\n",
       "draftkings  2020     4620\n",
       "bet365      2021     4334\n",
       "betonline   2020     4203\n",
       "draftkings  2022     4202\n",
       "pinnacle    2020     4199\n",
       "bet365      2022     3990\n",
       "bovada      2019     3934\n",
       "pinnacle    2019     3575\n",
       "bovada      2023     3507\n",
       "pinnacle    2023     3334\n",
       "bet365      2020     3222\n",
       "betcris     2023     2923\n",
       "bet365      2019     2903\n",
       "betonline   2023     2586\n",
       "unibet      2023     2287\n",
       "betmgm      2022     2247\n",
       "circa       2022     1881\n",
       "betmgm      2021     1862\n",
       "draftkings  2023     1694\n",
       "circa       2023     1628\n",
       "bet365      2023     1452\n",
       "betmgm      2023      973\n",
       "betcris     2019      918\n",
       "fanduel     2023      203\n",
       "            2022      131\n",
       "            2021       17\n",
       "dtype: int64"
      ]
     },
     "execution_count": 115,
     "metadata": {},
     "output_type": "execute_result"
    }
   ],
   "source": [
    "df[['book','year']].value_counts()"
   ]
  },
  {
   "cell_type": "code",
   "execution_count": 145,
   "id": "a0fd97b6-e881-49a2-a411-ed01ff4a97dd",
   "metadata": {},
   "outputs": [],
   "source": [
    "# create a unique ID\n",
    "df['matchup_id'] = (\n",
    "    df[['year','season','event_id','p1_dg_id','p2_dg_id','bet_type']]\n",
    "    .apply(lambda x: x.astype(str))\n",
    "    .apply(lambda x: '-'.join(x), axis=1)\n",
    ")\n",
    "\n",
    "#df.loc[df.duplicated(keep=False)]"
   ]
  },
  {
   "cell_type": "code",
   "execution_count": 151,
   "id": "329dfb0d-32c5-4463-9d6f-e752e4325a2b",
   "metadata": {},
   "outputs": [],
   "source": [
    "dup_matchups = df.loc[df[['matchup_id','book']].duplicated(keep=False)]"
   ]
  },
  {
   "cell_type": "code",
   "execution_count": 154,
   "id": "eba733a3-3691-4c78-b633-585883ffae1a",
   "metadata": {},
   "outputs": [
    {
     "data": {
      "text/plain": [
       "bovada        588\n",
       "draftkings     80\n",
       "pinnacle        2\n",
       "Name: book, dtype: int64"
      ]
     },
     "execution_count": 154,
     "metadata": {},
     "output_type": "execute_result"
    }
   ],
   "source": [
    "dup_matchups.book.value_counts()"
   ]
  },
  {
   "cell_type": "code",
   "execution_count": 161,
   "id": "a9ac725e-0a83-4b82-96e4-224ac075cbbd",
   "metadata": {},
   "outputs": [],
   "source": [
    "# removing these books based on industry knowledge\n",
    "remove_book = ['bovada','pointsbet','unibet']"
   ]
  },
  {
   "cell_type": "code",
   "execution_count": 175,
   "id": "cc773042-63cc-46fd-9fc1-b74d6b6db7e4",
   "metadata": {},
   "outputs": [],
   "source": [
    "df = df[~df.book.isin(remove_book)].reset_index(drop=True).copy()"
   ]
  },
  {
   "cell_type": "code",
   "execution_count": 179,
   "id": "8cba7b47-9024-449e-8c19-8298ac6697a4",
   "metadata": {},
   "outputs": [],
   "source": [
    "df = df[~df.duplicated(subset=['book','matchup_id'])].reset_index(drop=True).copy()"
   ]
  },
  {
   "cell_type": "code",
   "execution_count": 211,
   "id": "8069301b-2553-4929-9b0d-1940249df14c",
   "metadata": {},
   "outputs": [
    {
     "data": {
      "text/plain": [
       "book\n",
       "bet365         154\n",
       "betcris        977\n",
       "betmgm        3220\n",
       "betonline      979\n",
       "circa          186\n",
       "draftkings    2006\n",
       "fanduel        100\n",
       "pinnacle      1507\n",
       "dtype: int64"
      ]
     },
     "execution_count": 211,
     "metadata": {},
     "output_type": "execute_result"
    }
   ],
   "source": [
    "recent_df = df.query(\"year.isin([2022,2023])\")\n",
    "\n",
    "(pd.crosstab(recent_df['matchup_id'], recent_df['book'])\n",
    " .reset_index()\n",
    " .query(\"betmgm == 1\")\n",
    " .drop(['matchup_id'], axis=1)\n",
    " .apply(lambda x: sum(x))\n",
    ")"
   ]
  },
  {
   "cell_type": "code",
   "execution_count": 198,
   "id": "19374b14-cc53-4ffa-8fcd-d4369398ce8c",
   "metadata": {},
   "outputs": [],
   "source": [
    "matchup_crosstab = pd.crosstab(df['matchup_id'], df['book']).reset_index()"
   ]
  },
  {
   "cell_type": "code",
   "execution_count": 205,
   "id": "d011a9b7-8897-42a8-9ae8-ec1bf0a44bfa",
   "metadata": {},
   "outputs": [
    {
     "data": {
      "text/plain": [
       "book\n",
       "bet365         1505\n",
       "betcris        3191\n",
       "betmgm         3459\n",
       "betonline      5643\n",
       "circa           321\n",
       "draftkings    16691\n",
       "fanduel          87\n",
       "pinnacle       8077\n",
       "dtype: int64"
      ]
     },
     "execution_count": 205,
     "metadata": {},
     "output_type": "execute_result"
    }
   ],
   "source": [
    "# most common offerings to draftkings\n",
    "(matchup_crosstab.loc[matchup_crosstab.draftkings == 1]\n",
    " .drop(['matchup_id'], axis = 1)\n",
    " .apply(lambda x: sum(x))\n",
    ")"
   ]
  },
  {
   "cell_type": "markdown",
   "id": "87481db1-163b-445d-9962-81ad0762a4e6",
   "metadata": {},
   "source": [
    "# TO DO"
   ]
  },
  {
   "cell_type": "markdown",
   "id": "69019b4b-f187-4202-a6a3-6ac77abdbb71",
   "metadata": {},
   "source": [
    "Create a function that will develop the optimal synthetic lines for 2022, evaluate on 2023 matchups. Do this for Illinois books (BetMGM, Draftkings)."
   ]
  },
  {
   "cell_type": "code",
   "execution_count": null,
   "id": "a74d1fd2-340c-49c7-a354-5c743e32d6ad",
   "metadata": {},
   "outputs": [],
   "source": []
  }
 ],
 "metadata": {
  "environment": {
   "kernel": "python3",
   "name": "r-cpu.4-1.m95",
   "type": "gcloud",
   "uri": "gcr.io/deeplearning-platform-release/r-cpu.4-1:m95"
  },
  "kernelspec": {
   "display_name": "Python 3",
   "language": "python",
   "name": "python3"
  },
  "language_info": {
   "codemirror_mode": {
    "name": "ipython",
    "version": 3
   },
   "file_extension": ".py",
   "mimetype": "text/x-python",
   "name": "python",
   "nbconvert_exporter": "python",
   "pygments_lexer": "ipython3",
   "version": "3.7.12"
  }
 },
 "nbformat": 4,
 "nbformat_minor": 5
}
